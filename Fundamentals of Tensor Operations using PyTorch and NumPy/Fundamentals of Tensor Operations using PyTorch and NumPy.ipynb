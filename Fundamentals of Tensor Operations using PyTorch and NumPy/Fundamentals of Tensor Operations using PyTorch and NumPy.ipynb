{
 "cells": [
  {
   "cell_type": "code",
   "execution_count": null,
   "id": "bfa7080d",
   "metadata": {
    "_cell_guid": "b1076dfc-b9ad-4769-8c92-a6c4dae69d19",
    "_uuid": "8f2839f25d086af736a60e9eeb907d3b93b6e0e5",
    "execution": {
     "iopub.execute_input": "2025-04-16T15:57:29.345028Z",
     "iopub.status.busy": "2025-04-16T15:57:29.344812Z",
     "iopub.status.idle": "2025-04-16T15:57:33.319992Z",
     "shell.execute_reply": "2025-04-16T15:57:33.319378Z"
    },
    "papermill": {
     "duration": 3.979781,
     "end_time": "2025-04-16T15:57:33.321512",
     "exception": false,
     "start_time": "2025-04-16T15:57:29.341731",
     "status": "completed"
    },
    "tags": []
   },
   "outputs": [],
   "source": [
    "# Fundamentals of Tensor Operations using PyTorch and NumPy"
   ]
  },
  {
   "cell_type": "code",
   "execution_count": null,
   "id": "c9acba3a",
   "metadata": {},
   "outputs": [],
   "source": [
    "\n",
    "import torch\n",
    "import numpy as np"
   ]
  },
  {
   "cell_type": "code",
   "execution_count": 2,
   "id": "059a8839",
   "metadata": {
    "_cell_guid": "b1076dfc-b9ad-4769-8c92-a6c4dae69d19",
    "_uuid": "8f2839f25d086af736a60e9eeb907d3b93b6e0e5",
    "execution": {
     "iopub.execute_input": "2025-04-16T15:57:33.327296Z",
     "iopub.status.busy": "2025-04-16T15:57:33.326567Z",
     "iopub.status.idle": "2025-04-16T15:57:33.343197Z",
     "shell.execute_reply": "2025-04-16T15:57:33.342557Z"
    },
    "papermill": {
     "duration": 0.020404,
     "end_time": "2025-04-16T15:57:33.344314",
     "exception": false,
     "start_time": "2025-04-16T15:57:33.323910",
     "status": "completed"
    },
    "tags": []
   },
   "outputs": [
    {
     "name": "stdout",
     "output_type": "stream",
     "text": [
      "Creating Tensors\n"
     ]
    }
   ],
   "source": [
    "print(\"Creating Tensors\")\n",
    "# 1D, 2D, 3D tensors\n",
    "tensor_1d = torch.tensor([1, 2, 3])\n",
    "tensor_2d = torch.tensor([[1, 2], [3, 4]])\n",
    "tensor_3d = torch.tensor([[[1, 2], [3, 4]], [[5, 6], [7, 8]]])\n",
    "np_1d = np.array([1, 2, 3])\n",
    "np_2d = np.array([[1, 2], [3, 4]])\n",
    "np_3d = np.array([[[1, 2], [3, 4]], [[5, 6], [7, 8]]])"
   ]
  },
  {
   "cell_type": "code",
   "execution_count": 3,
   "id": "306abc69",
   "metadata": {
    "_cell_guid": "b1076dfc-b9ad-4769-8c92-a6c4dae69d19",
    "_uuid": "8f2839f25d086af736a60e9eeb907d3b93b6e0e5",
    "execution": {
     "iopub.execute_input": "2025-04-16T15:57:33.348880Z",
     "iopub.status.busy": "2025-04-16T15:57:33.348687Z",
     "iopub.status.idle": "2025-04-16T15:57:33.375903Z",
     "shell.execute_reply": "2025-04-16T15:57:33.375122Z"
    },
    "papermill": {
     "duration": 0.030682,
     "end_time": "2025-04-16T15:57:33.376974",
     "exception": false,
     "start_time": "2025-04-16T15:57:33.346292",
     "status": "completed"
    },
    "tags": []
   },
   "outputs": [
    {
     "name": "stdout",
     "output_type": "stream",
     "text": [
      "1D PyTorch: tensor([1, 2, 3])\n",
      "2D PyTorch: \n",
      "tensor([[1, 2],\n",
      "        [3, 4]])\n",
      "3D PyTorch: \n",
      "tensor([[[1, 2],\n",
      "         [3, 4]],\n",
      "\n",
      "        [[5, 6],\n",
      "         [7, 8]]])\n",
      "1D NumPy: [1 2 3]\n",
      "2D NumPy: \n",
      "[[1 2]\n",
      " [3 4]]\n",
      "3D NumPy: \n",
      "[[[1 2]\n",
      "  [3 4]]\n",
      "\n",
      " [[5 6]\n",
      "  [7 8]]]\n"
     ]
    }
   ],
   "source": [
    "print(f\"1D PyTorch: {tensor_1d}\")\n",
    "print(f\"2D PyTorch: \\n{tensor_2d}\")\n",
    "print(f\"3D PyTorch: \\n{tensor_3d}\")\n",
    "print(f\"1D NumPy: {np_1d}\")\n",
    "print(f\"2D NumPy: \\n{np_2d}\")\n",
    "print(f\"3D NumPy: \\n{np_3d}\")"
   ]
  },
  {
   "cell_type": "code",
   "execution_count": 4,
   "id": "84dcb98a",
   "metadata": {
    "_cell_guid": "b1076dfc-b9ad-4769-8c92-a6c4dae69d19",
    "_uuid": "8f2839f25d086af736a60e9eeb907d3b93b6e0e5",
    "execution": {
     "iopub.execute_input": "2025-04-16T15:57:33.381725Z",
     "iopub.status.busy": "2025-04-16T15:57:33.381525Z",
     "iopub.status.idle": "2025-04-16T15:57:33.435852Z",
     "shell.execute_reply": "2025-04-16T15:57:33.435078Z"
    },
    "papermill": {
     "duration": 0.057948,
     "end_time": "2025-04-16T15:57:33.436990",
     "exception": false,
     "start_time": "2025-04-16T15:57:33.379042",
     "status": "completed"
    },
    "tags": []
   },
   "outputs": [
    {
     "name": "stdout",
     "output_type": "stream",
     "text": [
      "Basic Operations\n",
      "Addition: tensor([5., 7., 9.])\n",
      "Subtraction: tensor([-3., -3., -3.])\n",
      "Multiplication: tensor([ 4., 10., 18.])\n",
      "Division: tensor([0.2500, 0.4000, 0.5000])\n"
     ]
    }
   ],
   "source": [
    "print(\"Basic Operations\")\n",
    "a = torch.tensor([1.0, 2.0, 3.0])\n",
    "b = torch.tensor([4.0, 5.0, 6.0])\n",
    "print(f\"Addition: {a + b}\")\n",
    "print(f\"Subtraction: {a - b}\")\n",
    "print(f\"Multiplication: {a * b}\")\n",
    "print(f\"Division: {a / b}\")"
   ]
  },
  {
   "cell_type": "code",
   "execution_count": 5,
   "id": "ae393dbb",
   "metadata": {
    "_cell_guid": "b1076dfc-b9ad-4769-8c92-a6c4dae69d19",
    "_uuid": "8f2839f25d086af736a60e9eeb907d3b93b6e0e5",
    "execution": {
     "iopub.execute_input": "2025-04-16T15:57:33.441707Z",
     "iopub.status.busy": "2025-04-16T15:57:33.441510Z",
     "iopub.status.idle": "2025-04-16T15:57:33.455374Z",
     "shell.execute_reply": "2025-04-16T15:57:33.454601Z"
    },
    "papermill": {
     "duration": 0.017493,
     "end_time": "2025-04-16T15:57:33.456512",
     "exception": false,
     "start_time": "2025-04-16T15:57:33.439019",
     "status": "completed"
    },
    "tags": []
   },
   "outputs": [
    {
     "name": "stdout",
     "output_type": "stream",
     "text": [
      "Dot Product and Matrix Multiplication\n",
      "Dot Product: 32\n",
      "Matrix Multiplication:\n",
      "tensor([[19, 22],\n",
      "        [43, 50]])\n"
     ]
    }
   ],
   "source": [
    "print(\"Dot Product and Matrix Multiplication\")\n",
    "vec1 = torch.tensor([1, 2, 3])\n",
    "vec2 = torch.tensor([4, 5, 6])\n",
    "dot = torch.dot(vec1, vec2)\n",
    "print(f\"Dot Product: {dot}\")\n",
    "mat1 = torch.tensor([[1, 2], [3, 4]])\n",
    "mat2 = torch.tensor([[5, 6], [7, 8]])\n",
    "matmul = torch.matmul(mat1, mat2)\n",
    "print(f\"Matrix Multiplication:\\n{matmul}\")"
   ]
  },
  {
   "cell_type": "code",
   "execution_count": 6,
   "id": "0591eade",
   "metadata": {
    "_cell_guid": "b1076dfc-b9ad-4769-8c92-a6c4dae69d19",
    "_uuid": "8f2839f25d086af736a60e9eeb907d3b93b6e0e5",
    "execution": {
     "iopub.execute_input": "2025-04-16T15:57:33.461413Z",
     "iopub.status.busy": "2025-04-16T15:57:33.461199Z",
     "iopub.status.idle": "2025-04-16T15:57:33.474586Z",
     "shell.execute_reply": "2025-04-16T15:57:33.473839Z"
    },
    "papermill": {
     "duration": 0.017119,
     "end_time": "2025-04-16T15:57:33.475691",
     "exception": false,
     "start_time": "2025-04-16T15:57:33.458572",
     "status": "completed"
    },
    "tags": []
   },
   "outputs": [
    {
     "name": "stdout",
     "output_type": "stream",
     "text": [
      "Indexing and Slicing\n",
      "Original Tensor:\n",
      "tensor([[10, 20, 30],\n",
      "        [40, 50, 60]])\n",
      "Element [1,2]: 60\n",
      "First Row: tensor([10, 20, 30])\n",
      "Boolean Masking > 30: tensor([40, 50, 60])\n",
      "Extracted Subtensor: tensor([[20, 30],\n",
      "        [50, 60]])\n"
     ]
    }
   ],
   "source": [
    "print(\"Indexing and Slicing\")\n",
    "tensor = torch.tensor([[10, 20, 30], [40, 50, 60]])\n",
    "print(f\"Original Tensor:\\n{tensor}\")\n",
    "print(f\"Element [1,2]: {tensor[1, 2]}\")\n",
    "print(f\"First Row: {tensor[0]}\")\n",
    "print(f\"Boolean Masking > 30: {tensor[tensor > 30]}\")\n",
    "print(f\"Extracted Subtensor: {tensor[:, 1:]}\")"
   ]
  },
  {
   "cell_type": "code",
   "execution_count": 7,
   "id": "0aa07c4e",
   "metadata": {
    "_cell_guid": "b1076dfc-b9ad-4769-8c92-a6c4dae69d19",
    "_uuid": "8f2839f25d086af736a60e9eeb907d3b93b6e0e5",
    "execution": {
     "iopub.execute_input": "2025-04-16T15:57:33.481547Z",
     "iopub.status.busy": "2025-04-16T15:57:33.481361Z",
     "iopub.status.idle": "2025-04-16T15:57:33.489821Z",
     "shell.execute_reply": "2025-04-16T15:57:33.489230Z"
    },
    "papermill": {
     "duration": 0.013025,
     "end_time": "2025-04-16T15:57:33.490784",
     "exception": false,
     "start_time": "2025-04-16T15:57:33.477759",
     "status": "completed"
    },
    "tags": []
   },
   "outputs": [
    {
     "name": "stdout",
     "output_type": "stream",
     "text": [
      "Reshaping Tensors\n",
      "Original x: tensor([0, 1, 2, 3, 4, 5])\n",
      "x.view(2, 3):\n",
      "tensor([[0, 1, 2],\n",
      "        [3, 4, 5]])\n",
      "x.reshape(2, 3):\n",
      "tensor([[0, 1, 2],\n",
      "        [3, 4, 5]])\n",
      "Unsqueeze y (add dim 0):\n",
      "tensor([[[1, 2],\n",
      "         [3, 4]]])\n",
      "Squeeze y (remove dim):\n",
      "tensor([[1, 2],\n",
      "        [3, 4]])\n"
     ]
    }
   ],
   "source": [
    "print(\"Reshaping Tensors\")\n",
    "x = torch.arange(6)\n",
    "print(f\"Original x: {x}\")\n",
    "print(f\"x.view(2, 3):\\n{x.view(2, 3)}\")\n",
    "print(f\"x.reshape(2, 3):\\n{x.reshape(2, 3)}\")\n",
    "y = torch.tensor([[1, 2], [3, 4]])\n",
    "print(f\"Unsqueeze y (add dim 0):\\n{y.unsqueeze(0)}\")\n",
    "print(f\"Squeeze y (remove dim):\\n{y.unsqueeze(0).squeeze()}\")"
   ]
  },
  {
   "cell_type": "code",
   "execution_count": 8,
   "id": "6bf50d82",
   "metadata": {
    "_cell_guid": "b1076dfc-b9ad-4769-8c92-a6c4dae69d19",
    "_uuid": "8f2839f25d086af736a60e9eeb907d3b93b6e0e5",
    "execution": {
     "iopub.execute_input": "2025-04-16T15:57:33.495915Z",
     "iopub.status.busy": "2025-04-16T15:57:33.495724Z",
     "iopub.status.idle": "2025-04-16T15:57:33.499490Z",
     "shell.execute_reply": "2025-04-16T15:57:33.498847Z"
    },
    "papermill": {
     "duration": 0.007589,
     "end_time": "2025-04-16T15:57:33.500597",
     "exception": false,
     "start_time": "2025-04-16T15:57:33.493008",
     "status": "completed"
    },
    "tags": []
   },
   "outputs": [
    {
     "name": "stdout",
     "output_type": "stream",
     "text": [
      "NumPy Reshape:\n",
      "[[0 1 2]\n",
      " [3 4 5]]\n"
     ]
    }
   ],
   "source": [
    "# NumPy Comparison\n",
    "np_x = np.arange(6)\n",
    "print(f\"NumPy Reshape:\\n{np_x.reshape(2, 3)}\")"
   ]
  },
  {
   "cell_type": "code",
   "execution_count": 9,
   "id": "bc81f99c",
   "metadata": {
    "_cell_guid": "b1076dfc-b9ad-4769-8c92-a6c4dae69d19",
    "_uuid": "8f2839f25d086af736a60e9eeb907d3b93b6e0e5",
    "execution": {
     "iopub.execute_input": "2025-04-16T15:57:33.506228Z",
     "iopub.status.busy": "2025-04-16T15:57:33.505907Z",
     "iopub.status.idle": "2025-04-16T15:57:33.510611Z",
     "shell.execute_reply": "2025-04-16T15:57:33.509984Z"
    },
    "papermill": {
     "duration": 0.008619,
     "end_time": "2025-04-16T15:57:33.511696",
     "exception": false,
     "start_time": "2025-04-16T15:57:33.503077",
     "status": "completed"
    },
    "tags": []
   },
   "outputs": [
    {
     "name": "stdout",
     "output_type": "stream",
     "text": [
      "Broadcasting\n",
      "a shape: torch.Size([3, 1]), b shape: torch.Size([3])\n",
      "Broadcasted Addition:\n",
      "tensor([[11, 21, 31],\n",
      "        [12, 22, 32],\n",
      "        [13, 23, 33]])\n"
     ]
    }
   ],
   "source": [
    "print(\"Broadcasting\")\n",
    "a = torch.tensor([[1], [2], [3]])\n",
    "b = torch.tensor([10, 20, 30])\n",
    "print(f\"a shape: {a.shape}, b shape: {b.shape}\")\n",
    "print(f\"Broadcasted Addition:\\n{a + b}\")"
   ]
  },
  {
   "cell_type": "code",
   "execution_count": 10,
   "id": "cfe15ed9",
   "metadata": {
    "_cell_guid": "b1076dfc-b9ad-4769-8c92-a6c4dae69d19",
    "_uuid": "8f2839f25d086af736a60e9eeb907d3b93b6e0e5",
    "execution": {
     "iopub.execute_input": "2025-04-16T15:57:33.517204Z",
     "iopub.status.busy": "2025-04-16T15:57:33.516888Z",
     "iopub.status.idle": "2025-04-16T15:57:33.521272Z",
     "shell.execute_reply": "2025-04-16T15:57:33.520543Z"
    },
    "papermill": {
     "duration": 0.008213,
     "end_time": "2025-04-16T15:57:33.522408",
     "exception": false,
     "start_time": "2025-04-16T15:57:33.514195",
     "status": "completed"
    },
    "tags": []
   },
   "outputs": [
    {
     "name": "stdout",
     "output_type": "stream",
     "text": [
      "In-place vs Out-of-place Operations\n",
      "Original t: tensor([1., 2., 3.])\n"
     ]
    }
   ],
   "source": [
    "print(\"In-place vs Out-of-place Operations\")\n",
    "t = torch.tensor([1.0, 2.0, 3.0])\n",
    "print(f\"Original t: {t}\")"
   ]
  },
  {
   "cell_type": "code",
   "execution_count": 11,
   "id": "1a6f24e7",
   "metadata": {
    "_cell_guid": "b1076dfc-b9ad-4769-8c92-a6c4dae69d19",
    "_uuid": "8f2839f25d086af736a60e9eeb907d3b93b6e0e5",
    "execution": {
     "iopub.execute_input": "2025-04-16T15:57:33.527859Z",
     "iopub.status.busy": "2025-04-16T15:57:33.527475Z",
     "iopub.status.idle": "2025-04-16T15:57:33.532986Z",
     "shell.execute_reply": "2025-04-16T15:57:33.532370Z"
    },
    "papermill": {
     "duration": 0.00926,
     "end_time": "2025-04-16T15:57:33.533991",
     "exception": false,
     "start_time": "2025-04-16T15:57:33.524731",
     "status": "completed"
    },
    "tags": []
   },
   "outputs": [
    {
     "name": "stdout",
     "output_type": "stream",
     "text": [
      "t + 2 (Out-of-place): tensor([3., 4., 5.])\n",
      "t after out-of-place: tensor([1., 2., 3.])\n"
     ]
    }
   ],
   "source": [
    "# Out-of-place\n",
    "t_add = t + 2\n",
    "print(f\"t + 2 (Out-of-place): {t_add}\")\n",
    "print(f\"t after out-of-place: {t}\")"
   ]
  },
  {
   "cell_type": "code",
   "execution_count": 12,
   "id": "05374f34",
   "metadata": {
    "_cell_guid": "b1076dfc-b9ad-4769-8c92-a6c4dae69d19",
    "_uuid": "8f2839f25d086af736a60e9eeb907d3b93b6e0e5",
    "execution": {
     "iopub.execute_input": "2025-04-16T15:57:33.540305Z",
     "iopub.status.busy": "2025-04-16T15:57:33.539828Z",
     "iopub.status.idle": "2025-04-16T15:57:33.544151Z",
     "shell.execute_reply": "2025-04-16T15:57:33.543563Z"
    },
    "papermill": {
     "duration": 0.008548,
     "end_time": "2025-04-16T15:57:33.545124",
     "exception": false,
     "start_time": "2025-04-16T15:57:33.536576",
     "status": "completed"
    },
    "tags": []
   },
   "outputs": [
    {
     "name": "stdout",
     "output_type": "stream",
     "text": [
      "t after add_ (In-place): tensor([3., 4., 5.])\n"
     ]
    }
   ],
   "source": [
    "# In-place\n",
    "t.add_(2)\n",
    "print(f\"t after add_ (In-place): {t}\")"
   ]
  }
 ],
 "metadata": {
  "kaggle": {
   "accelerator": "gpu",
   "dataSources": [],
   "isGpuEnabled": true,
   "isInternetEnabled": true,
   "language": "python",
   "sourceType": "notebook"
  },
  "kernelspec": {
   "display_name": "Python 3",
   "language": "python",
   "name": "python3"
  },
  "language_info": {
   "codemirror_mode": {
    "name": "ipython",
    "version": 3
   },
   "file_extension": ".py",
   "mimetype": "text/x-python",
   "name": "python",
   "nbconvert_exporter": "python",
   "pygments_lexer": "ipython3",
   "version": "3.11.11"
  },
  "papermill": {
   "default_parameters": {},
   "duration": 9.667525,
   "end_time": "2025-04-16T15:57:34.966701",
   "environment_variables": {},
   "exception": null,
   "input_path": "__notebook__.ipynb",
   "output_path": "__notebook__.ipynb",
   "parameters": {},
   "start_time": "2025-04-16T15:57:25.299176",
   "version": "2.6.0"
  }
 },
 "nbformat": 4,
 "nbformat_minor": 5
}
